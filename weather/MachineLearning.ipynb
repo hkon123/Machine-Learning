{
 "cells": [
  {
   "cell_type": "markdown",
   "metadata": {},
   "source": [
    "## Step 1 - Import and Data loading\n",
    "\n",
    "Import the sklearn modules you intend to use as part of your Machine Learning analysis (e.g. classifiers, metrics, model selection)"
   ]
  },
  {
   "cell_type": "code",
   "execution_count": null,
   "metadata": {},
   "outputs": [],
   "source": [
    "import pickle\n",
    "# ADD SKLEARN MODULES FOR YOUR CHOSEN CLASSIFICATION METHOD HERE\n",
    "# e.g. to load the decision tree estimator use: from sklearn.tree import DecisionTreeClassifier\n",
    "from sklearn.tree import DecisionTreeClassifier\n",
    "from sklearn.metrics import classification_report, confusion_matrix\n",
    "from sklearn.model_selection import train_test_split"
   ]
  },
  {
   "cell_type": "markdown",
   "metadata": {},
   "source": [
    "Confirm that the data has loaded correctly by inspecting the data attributes in the `weather` object."
   ]
  },
  {
   "cell_type": "code",
   "execution_count": null,
   "metadata": {},
   "outputs": [],
   "source": []
  },
  {
   "cell_type": "markdown",
   "metadata": {},
   "source": [
    "## Step 2 - Define the training and testing sample\n",
    "\n",
    "Divide the weather data into a suitable training and testing sample. Start with a 50/50 split but make this easily adaptable for futher fitting evaluation.\n",
    "\n",
    "*Examples*:\n",
    "- [`sklearn.model_selection.train_test_split`](http://scikit-learn.org/stable/modules/generated/sklearn.model_selection.train_test_split.html)\n"
   ]
  },
  {
   "cell_type": "code",
   "execution_count": null,
   "metadata": {},
   "outputs": [],
   "source": [
    "# DEFINE TRAINING AND TESTING SAMPLES AND TARGETS HERE"
   ]
  },
  {
   "cell_type": "markdown",
   "metadata": {},
   "source": [
    "## Step 3 - Define the classification method\n",
    "\n",
    "This can be any of the estimators provided by Sklearn. I suggest you start with a *white box* method to better understand the process before trying something more advanced."
   ]
  },
  {
   "cell_type": "code",
   "execution_count": null,
   "metadata": {},
   "outputs": [],
   "source": [
    "# DEFINE CLASSIFIER HERE\n",
    "# e.g for a Decision tree: clf = DecisionTreeClassifier()"
   ]
  },
  {
   "cell_type": "markdown",
   "metadata": {},
   "source": [
    "## Step 4 - Fit the training data\n",
    "\n",
    "Run the `fit` method of your chosen estimator using the training data (and corresponding targets) as input"
   ]
  },
  {
   "cell_type": "code",
   "execution_count": null,
   "metadata": {},
   "outputs": [],
   "source": [
    "# RUN FIT METHOD HERE"
   ]
  },
  {
   "cell_type": "markdown",
   "metadata": {},
   "source": [
    "## Step 5 - Define the expected and predicted datasets\n",
    "\n",
    "Define `expected` as your *test* target values (i.e. **not** your *training* target values) and run the `predict` method on your chosen estimator using your *test data*"
   ]
  },
  {
   "cell_type": "code",
   "execution_count": null,
   "metadata": {},
   "outputs": [],
   "source": [
    "# DEFINE EXPECTED AND PREDICTED VALUES HERE"
   ]
  },
  {
   "cell_type": "markdown",
   "metadata": {},
   "source": [
    "## Step 6 - Prediction Evaluation\n",
    "\n",
    "#Use the `sklearn.metrics` module to compare the results using the expected and predicted datasets.\n",
    "\n",
    "Examples:\n",
    "- [Sklearn Model Evaluation](http://scikit-learn.org/stable/modules/model_evaluation.html#)\n",
    "- [Handwritten Digits example](http://scikit-learn.org/stable/auto_examples/classification/plot_digits_classification.html#sphx-glr-auto-examples-classification-plot-digits-classification-py)"
   ]
  },
  {
   "cell_type": "code",
   "execution_count": null,
   "metadata": {},
   "outputs": [],
   "source": [
    "# RUN PREDICTION EVALUATION METHODS HERE"
   ]
  }
 ],
 "metadata": {
  "kernelspec": {
   "display_name": "Python 2",
   "language": "python",
   "name": "python2"
  },
  "language_info": {
   "codemirror_mode": {
    "name": "ipython",
    "version": 2
   },
   "file_extension": ".py",
   "mimetype": "text/x-python",
   "name": "python",
   "nbconvert_exporter": "python",
   "pygments_lexer": "ipython2",
   "version": "2.7.13"
  }
 },
 "nbformat": 4,
 "nbformat_minor": 2
}
