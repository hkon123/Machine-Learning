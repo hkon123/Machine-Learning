{
 "cells": [
  {
   "cell_type": "markdown",
   "metadata": {},
   "source": [
    "## Step 1 - `Weather` class\n",
    "\n",
    "Begin by importing the Weather class. Weather data is accessed through an instantation of the provided `Weather` class."
   ]
  },
  {
   "cell_type": "code",
   "execution_count": 1,
   "metadata": {},
   "outputs": [],
   "source": [
    "from Weather import *"
   ]
  },
  {
   "cell_type": "markdown",
   "metadata": {},
   "source": [
    "## Step 2 - Load Weather data\n",
    "\n",
    "Create a new object (e.g. `weather`) of type `Weather`. As part of the instantiation provide:\n",
    "\n",
    "- weatherFile: The filename (either basic.txt or advanced.txt)\n",
    "- fileSlice: The number of lines to read from the chosen input file (0 is all)\n",
    "\n",
    "Use the `fileSlice` to limit the sample size for early evaluation"
   ]
  },
  {
   "cell_type": "code",
   "execution_count": 2,
   "metadata": {},
   "outputs": [],
   "source": [
    "weatherFile = 'data/basic.txt'\n",
    "fileSlice = 0\n",
    "weather = Weather(weatherFile, fileSlice)"
   ]
  },
  {
   "cell_type": "markdown",
   "metadata": {},
   "source": [
    "## Step 3 - Inspect the Data"
   ]
  },
  {
   "cell_type": "code",
   "execution_count": 3,
   "metadata": {},
   "outputs": [
    {
     "name": "stdout",
     "output_type": "stream",
     "text": [
      "##################################################\n",
      "# Step 3: Inspect the Data\n",
      "##################################################\n",
      "\n",
      "\n",
      "Weather Data:\n",
      "[['3002' 'BALTASOUND' '15.0' ..., '9.9' '97.4' '2']\n",
      " ['3002' 'BALTASOUND' '15.0' ..., '10.1' '97.4' '2']\n",
      " ['3002' 'BALTASOUND' '15.0' ..., '10.3' '97.4' '1']\n",
      " ..., \n",
      " ['99081' 'NORTH_WYKE' '177.0' ..., '6.1' '88.2' '1']\n",
      " ['99081' 'NORTH_WYKE' '177.0' ..., '3.5' '79.3' '0']\n",
      " ['99081' 'NORTH_WYKE' '177.0' ..., '3.8' '86.9' '1']]\n",
      "Number of entries: 46706\n",
      "Number of targets: 3\n",
      "Target names: ['Clear' 'Cloudy' 'Precipitation']\n",
      "Number of features: 17\n",
      "Feature names: ['Station ID' 'Station Name' 'Elevation' 'Latitude' 'Longitude' 'Date'\n",
      " 'Time since midnight' 'Gust' 'Temperature' 'Visibilty' 'Wind Direction'\n",
      " 'Wind Speed' 'Pressure' 'Pressure Trend' 'Dew Point' 'Humidity'\n",
      " 'Weather Type']\n",
      "Station data for EDINBURGH/GOGARBANK: ['3166' 'EDINBURGH/GOGARBANK' '55.928' '-3.343']\n",
      "Station data for ID 3225: ['3225' 'SHAP' '54.501' '-2.684']\n",
      "Temperature data: ['10.3' '10.5' '10.7' ..., '7.9' '6.8' '5.8']\n"
     ]
    }
   ],
   "source": [
    "print '#'*50\n",
    "print '# Step 3: Inspect the Data'\n",
    "print '#'*50\n",
    "print '\\n'\n",
    "\n",
    "# print data\n",
    "print 'Weather Data:'\n",
    "print weather.data\n",
    "\n",
    "# print number of entries\n",
    "print 'Number of entries: %s' % (weather.getNrEntries())\n",
    "\n",
    "# print target names\n",
    "print 'Number of targets: %s' % (weather.getNrTargets())\n",
    "\n",
    "print 'Target names: %s' % (weather.getTargetNames())\n",
    "\n",
    "# print features\n",
    "print 'Number of features: %s' % (weather.getNrFeatures())\n",
    "\n",
    "print 'Feature names: %s' % (weather.getFeatures())\n",
    "\n",
    "# uncomment below to print station data\n",
    "# print 'Number of weather stations: %s' % (weather.getNrStations())\n",
    "# print 'Stations (ID, Name, Latitude, Longitude)'\n",
    "# print weather.getStationData('all')\n",
    "\n",
    "# Edinburgh and Shap station details\n",
    "print 'Station data for EDINBURGH/GOGARBANK: %s' % (weather.getStationData('EDINBURGH/GOGARBANK'))\n",
    "print 'Station data for ID 3225: %s' % (weather.getStationData('3225'))\n",
    "\n",
    "# get data from one feature\n",
    "print 'Temperature data: %s' % (weather.getFeatureData('Temperature'))"
   ]
  },
  {
   "cell_type": "markdown",
   "metadata": {},
   "source": [
    "## Step 4 - Recovering Incomplete Data\n",
    "\n",
    "Some of the observation values have a value of `-99999`. This is a default value I inserted to indicate that the feature data was either not collected at the time of the observation or had a null value. \n",
    "\n",
    "Any data points that contain null observations need to be corrected to avoid problems with subsequent filtering and modifications.\n",
    "\n",
    "In some cases null values can either be interpolated or set to a default value.\n",
    "\n",
    "The large majority of null data is from the `Gust` measurement Here I assume than no observation is the same as a zero value."
   ]
  },
  {
   "cell_type": "code",
   "execution_count": 4,
   "metadata": {},
   "outputs": [
    {
     "data": {
      "text/plain": [
       "0"
      ]
     },
     "execution_count": 4,
     "metadata": {},
     "output_type": "execute_result"
    }
   ],
   "source": [
    "# zero any null gust measurements\n",
    "newG = ['0' if g == '-99999' else g for g in weather.getFeatureData('Gust')]\n",
    "weather.modify('Gust', newG)\n",
    "#print weather.getFeatureData('Gust')"
   ]
  },
  {
   "cell_type": "markdown",
   "metadata": {},
   "source": [
    "## Step 5 - Removing Incomplete Data\n",
    "\n",
    "After recovering any data ensure you run the `discard()` method to\n",
    "remove any data with remaining null observations."
   ]
  },
  {
   "cell_type": "code",
   "execution_count": 5,
   "metadata": {},
   "outputs": [],
   "source": [
    "weather.discard()"
   ]
  },
  {
   "cell_type": "markdown",
   "metadata": {},
   "source": [
    "## Step 6 - Data Conversion\n",
    "\n",
    "Some of the features have observation values that will be difficult for a machine learning estimator to interpret correctly (e.g. Wind Direction).\n",
    "\n",
    "You should ensure that all the features selected for a machine learning classification have a numeric value.\n",
    "\n",
    "In example 1 the pressure trend is changed from Falling, Static, Rising to 0,1,2\n",
    "In example 2 the Wind Direction is changed to a 16 point index starting from direction NNE.\n",
    "\n",
    "**Important**: Due to the limitations with the `Weather` class ensure that any observation data remains type `string` (e.g store '1' **not** 1). The `export()` method will convert all the values from `string` to `float` just before the export."
   ]
  },
  {
   "cell_type": "code",
   "execution_count": 6,
   "metadata": {},
   "outputs": [
    {
     "data": {
      "text/plain": [
       "0"
      ]
     },
     "execution_count": 6,
     "metadata": {},
     "output_type": "execute_result"
    }
   ],
   "source": [
    "# Example 1 - Enumerate Pressure Trend (-1 falling, 0 static, 1 rising)\n",
    "\n",
    "# define types\n",
    "pTType = ['F', 'S', 'R']\n",
    "\n",
    "# generate new pressure trend values\n",
    "newPT = [str(pTType.index(p) - 1) for p in weather.getFeatureData('Pressure Trend') ]\n",
    "\n",
    "# modify dataset\n",
    "weather.modify('Pressure Trend', newPT)\n",
    "\n",
    "#print 'Pressure Trend: %s' % (weather.getFeatureData('Pressure Trend'))\n",
    "\n",
    "# Example 2 - Enumerate Wind direction (use 16 point compass index)\n",
    "\n",
    "# define types\n",
    "compassRose = ['NNE', 'NE', 'ENE', 'E', 'ESE', 'SE', 'SSE', 'S', 'SSW', 'SW', 'WSW', 'W', 'WNW', 'NW', 'NNW', 'N']\n",
    "\n",
    "# generate and modify Wind direction\n",
    "weather.modify('Wind Direction', [compassRose.index(w) for w in weather.getFeatureData('Wind Direction')])\n",
    "\n",
    "#print 'Wind Direction: %s' % (weather.getFeatureData('Wind Direction'))\n"
   ]
  },
  {
   "cell_type": "markdown",
   "metadata": {},
   "source": [
    "## Step 7 - Data Extraction\n",
    "\n",
    "The `getObservations()` method will enable you to filter the available data by Station ID, date, time and a selected feature.\n",
    "\n",
    "This may be helpful if you want to build an additional input feature for classification based on contextual information\n",
    "\n",
    "The example below retrieves the temperature and dew point for Edinburgh for 24th October."
   ]
  },
  {
   "cell_type": "code",
   "execution_count": 7,
   "metadata": {},
   "outputs": [
    {
     "name": "stdout",
     "output_type": "stream",
     "text": [
      "\n",
      "\n",
      "##################################################\n",
      "# Step 7: Data Extraction\n",
      "##################################################\n",
      "\n",
      "\n",
      "Temperature and Dew Point measurements for Edinburgh 24th October\n",
      "(Time since midnight (min), Temperature, Dew Point)\n",
      "[['0' '10.5' '8.0']\n",
      " ['60' '9.8' '7.2']\n",
      " ['120' '9.9' '6.8']\n",
      " ['180' '9.7' '6.3']\n",
      " ['240' '10.9' '6.0']\n",
      " ['300' '11.8' '6.7']\n",
      " ['360' '11.1' '8.2']\n",
      " ['420' '10.8' '8.6']\n",
      " ['480' '11.7' '9.4']\n",
      " ['540' '12.1' '10.0']\n",
      " ['600' '12.9' '10.1']\n",
      " ['660' '13.5' '11.1']\n",
      " ['720' '13.9' '11.3']\n",
      " ['780' '14.1' '10.2']\n",
      " ['840' '13.6' '9.5']\n",
      " ['900' '13.3' '9.2']\n",
      " ['960' '12.7' '9.2']\n",
      " ['1020' '12.3' '8.8']\n",
      " ['1020' '12.3' '8.8']\n",
      " ['1080' '12.0' '8.6']\n",
      " ['1140' '12.1' '8.1']\n",
      " ['1200' '11.5' '6.5']\n",
      " ['1260' '11.0' '7.3']\n",
      " ['1320' '10.5' '7.6']\n",
      " ['1380' '10.2' '8.1']]\n"
     ]
    }
   ],
   "source": [
    "print '\\n'\n",
    "print '#'*50\n",
    "print '# Step 7: Data Extraction'\n",
    "print '#'*50\n",
    "print '\\n'\n",
    "\n",
    "stationId = weather.getStationData('EDINBURGH/GOGARBANK')\n",
    "features = ['Time since midnight', 'Temperature', 'Dew Point']\n",
    "print 'Temperature and Dew Point measurements for Edinburgh 24th October'\n",
    "print '(Time since midnight (min), Temperature, Dew Point)'\n",
    "print weather.getObservations('3166', obsDate='2017-10-24', features=features)"
   ]
  },
  {
   "cell_type": "markdown",
   "metadata": {},
   "source": [
    "This can then be combined with location data. Here, the Pressure, Pressure Trend and Wind direction from the nearest weather station 100km NW of Edinburgh for 24th October is shown."
   ]
  },
  {
   "cell_type": "code",
   "execution_count": 8,
   "metadata": {},
   "outputs": [
    {
     "name": "stdout",
     "output_type": "stream",
     "text": [
      "\n",
      "\n",
      "Nearest stations 100km NW of EDINBURGH/GOGARBANK\n",
      "['3047', 'TULLOCH_BRIDGE', '56.867', '-4.708', 36.611322084864284]\n",
      "['3144', 'STRATHALLAN', '56.326', '-3.729', 53.831339422981124]\n",
      "['3134', 'GLASGOW/BISHOPTON', '55.907', '-4.533', 72.4878425483826]\n",
      "\n",
      "\n",
      "Using station TULLOCH_BRIDGE on 2017-10-24\n",
      "(Time since midnight (min), Pressure, Pressure Trend, Wind Direction)\n",
      "[['0' '1009' '-1' '9']\n",
      " ['60' '1009' '-1' '7']\n",
      " ['120' '1008' '-1' '8']\n",
      " ['180' '1007' '-1' '7']\n",
      " ['240' '1006' '-1' '8']\n",
      " ['300' '1005' '-1' '1']\n",
      " ['360' '1004' '-1' '8']\n",
      " ['420' '1003' '-1' '7']\n",
      " ['480' '1003' '-1' '7']\n",
      " ['540' '1003' '-1' '10']\n",
      " ['600' '1004' '1' '12']\n",
      " ['660' '1004' '1' '9']\n",
      " ['720' '1005' '1' '9']\n",
      " ['780' '1005' '1' '9']\n",
      " ['840' '1006' '1' '8']\n",
      " ['900' '1006' '1' '8']\n",
      " ['960' '1006' '1' '8']\n",
      " ['1020' '1006' '1' '8']\n",
      " ['1020' '1006' '1' '8']\n",
      " ['1080' '1006' '1' '8']\n",
      " ['1140' '1006' '-1' '8']\n",
      " ['1200' '1005' '-1' '8']\n",
      " ['1260' '1005' '-1' '8']\n",
      " ['1320' '1005' '-1' '8']\n",
      " ['1380' '1005' '-1' '8']]\n"
     ]
    }
   ],
   "source": [
    "stationId = weather.getStationData('EDINBURGH/GOGARBANK')\n",
    "\n",
    "# get nearest stations 100k NW of Edinburgh station within a 75km threshold\n",
    "nearestStations = weather.findStations([stationId[2], stationId[3]], ['100', '-45'], maxThreshold=75)\n",
    "\n",
    "print '\\n'\n",
    "print 'Nearest stations 100km NW of EDINBURGH/GOGARBANK'\n",
    "for s in nearestStations:\n",
    "    print s\n",
    "\n",
    "# use nearest station (index 0 )\n",
    "nearStationId = nearestStations[0]\n",
    "\n",
    "# get observations from nearest station on 24/10\n",
    "obsDate='2017-10-24'\n",
    "print '\\n'\n",
    "print 'Using station %s on %s' % (nearStationId[1], obsDate)\n",
    "features = ['Time since midnight', 'Pressure', 'Pressure Trend', 'Wind Direction']\n",
    "print '(Time since midnight (min), Pressure, Pressure Trend, Wind Direction)'\n",
    "print weather.getObservations(nearStationId[0], obsDate=obsDate, features=features)"
   ]
  },
  {
   "cell_type": "markdown",
   "metadata": {},
   "source": [
    "## Step 8 - Add new features\n",
    "\n",
    "You may get better insights into underlying patterns in the observations by extacting the provided data to generate new features.\n",
    "\n",
    "An example using the wind direction is shown below. The direction *relative* to the North and to the West is generated and appended to the dataset."
   ]
  },
  {
   "cell_type": "code",
   "execution_count": 9,
   "metadata": {},
   "outputs": [
    {
     "data": {
      "text/plain": [
       "0"
      ]
     },
     "execution_count": 9,
     "metadata": {},
     "output_type": "execute_result"
    }
   ],
   "source": [
    "# set relative direction (assume 16 points)\n",
    "points = 16\n",
    "north = [abs((points / 2) - int(w))%(points / 2) for w in weather.getFeatureData('Wind Direction')]\n",
    "west = [abs((points / 2) - int(w) - (points / 4))%(points / 2) for w in weather.getFeatureData('Wind Direction')]\n",
    "\n",
    "# append to dataset\n",
    "weather.append('Wind Relative North', north)\n",
    "weather.append('Wind Relative West', west)"
   ]
  },
  {
   "cell_type": "markdown",
   "metadata": {},
   "source": [
    "## Step 9 - Select features\n",
    "\n",
    "To finish create an array of strings containing a subset of the features you feel will perform best in the classification. Call the select() method to filter the data"
   ]
  },
  {
   "cell_type": "code",
   "execution_count": 10,
   "metadata": {},
   "outputs": [
    {
     "data": {
      "text/plain": [
       "0"
      ]
     },
     "execution_count": 10,
     "metadata": {},
     "output_type": "execute_result"
    }
   ],
   "source": [
    "features = ['Temperature', 'Visibilty', 'Pressure', 'Pressure Trend', 'Humidity']\n",
    "weather.select(features)"
   ]
  },
  {
   "cell_type": "markdown",
   "metadata": {},
   "source": [
    "## Step 10 - Export data\n",
    "\n",
    "Run the `export()` method to write the data of your selected features to file as a `pickle` object.\n",
    "\n",
    "This will move the target data ('Weather Type') into a new variable (`target`).\n",
    "\n",
    "**Note**: It is assumed that the *Station ID*  and *Station Name* will not be used as features for classification and are automatically stripped. The `export()` method will also strip out incomplete data before exporting to file."
   ]
  },
  {
   "cell_type": "code",
   "execution_count": 11,
   "metadata": {},
   "outputs": [
    {
     "data": {
      "text/plain": [
       "0"
      ]
     },
     "execution_count": 11,
     "metadata": {},
     "output_type": "execute_result"
    }
   ],
   "source": [
    "weather.export('data/mldata.p')"
   ]
  },
  {
   "cell_type": "code",
   "execution_count": null,
   "metadata": {},
   "outputs": [],
   "source": []
  }
 ],
 "metadata": {
  "kernelspec": {
   "display_name": "Python 2",
   "language": "python",
   "name": "python2"
  },
  "language_info": {
   "codemirror_mode": {
    "name": "ipython",
    "version": 2
   },
   "file_extension": ".py",
   "mimetype": "text/x-python",
   "name": "python",
   "nbconvert_exporter": "python",
   "pygments_lexer": "ipython2",
   "version": "2.7.13"
  }
 },
 "nbformat": 4,
 "nbformat_minor": 2
}
